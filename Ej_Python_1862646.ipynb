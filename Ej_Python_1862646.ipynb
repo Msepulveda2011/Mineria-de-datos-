{
  "nbformat": 4,
  "nbformat_minor": 0,
  "metadata": {
    "colab": {
      "name": "Ej_Python_1862646.ipynb",
      "provenance": [],
      "collapsed_sections": [],
      "authorship_tag": "ABX9TyOT/NCh2y7cseBID2QGCuLX",
      "include_colab_link": true
    },
    "kernelspec": {
      "name": "python3",
      "display_name": "Python 3"
    },
    "language_info": {
      "name": "python"
    }
  },
  "cells": [
    {
      "cell_type": "markdown",
      "metadata": {
        "id": "view-in-github",
        "colab_type": "text"
      },
      "source": [
        "<a href=\"https://colab.research.google.com/github/Msepulveda2011/Mineria-de-datos-/blob/main/Ej_Python_1862646.ipynb\" target=\"_parent\"><img src=\"https://colab.research.google.com/assets/colab-badge.svg\" alt=\"Open In Colab\"/></a>"
      ]
    },
    {
      "cell_type": "markdown",
      "metadata": {
        "id": "ON2pMNfuqonL"
      },
      "source": [
        "# Ejercicio 1"
      ]
    },
    {
      "cell_type": "code",
      "metadata": {
        "colab": {
          "base_uri": "https://localhost:8080/"
        },
        "id": "pNadPgwbwrug",
        "outputId": "ba08610f-3927-4a90-bb1e-6c26e58a0e1c"
      },
      "source": [
        "a = \"Marlene Michel Sepulveda Bermudez\"\n",
        "b = \"1862646\"\n",
        "print (\"El estudiante es\", a,\"y su matricula\", b)"
      ],
      "execution_count": null,
      "outputs": [
        {
          "output_type": "stream",
          "text": [
            "El estudiante es Marlene Michel Sepulveda Bermudez y su matricula 1862646\n"
          ],
          "name": "stdout"
        }
      ]
    },
    {
      "cell_type": "markdown",
      "metadata": {
        "id": "nnYVFh_cqxbS"
      },
      "source": [
        "# Ejercicio 2"
      ]
    },
    {
      "cell_type": "code",
      "metadata": {
        "colab": {
          "base_uri": "https://localhost:8080/"
        },
        "id": "9Gmse8M-zeDh",
        "outputId": "552c2ad3-2a74-4f2b-db65-c317e3f48e1f"
      },
      "source": [
        "salir = 0\n",
        "while salir != -1:\n",
        "   a1 = int(input(\"Introduce un número:\" ))\n",
        "   b1 = int(input(\"Introduce otro número: \"))\n",
        "   print (\"Seleccionar una opcion\")\n",
        "   print (\"1- Sumar    2-Restar     3-Multiplicar     4-División      5-Exponente\")\n",
        "   opcion = int(input(\"Que opcion desea (1,2,3,4,5): \"))\n",
        "   if opcion == 1:\n",
        "     res = a1 + b1\n",
        "   if opcion == 2:\n",
        "     res = a1 - b1\n",
        "   if opcion == 3:\n",
        "     res = a1*b1\n",
        "   if opcion == 4:\n",
        "     res = a1 / b1\n",
        "   if opcion == 5:\n",
        "     res = a1**b1\n",
        "   print (\"La respuesta es: \", res)\n",
        "   salir = int(input(\"Si desea salir ingresar -1 y si no ingrese 0: \"))\n"
      ],
      "execution_count": null,
      "outputs": [
        {
          "output_type": "stream",
          "text": [
            "Introduce un número:2\n",
            "Introduce otro número: 3\n",
            "Seleccionar una opcion\n",
            "1- Sumar    2-Restar     3-Multiplicar     4-División      5-Exponente\n",
            "Que opcion desea (1,2,3,4,5): 5\n",
            "La respuesta es:  8\n",
            "Si desea salir ingresar -1: -1\n"
          ],
          "name": "stdout"
        }
      ]
    },
    {
      "cell_type": "markdown",
      "metadata": {
        "id": "TxkW_RawsiQs"
      },
      "source": [
        "# Ejercicio 3"
      ]
    },
    {
      "cell_type": "code",
      "metadata": {
        "id": "MYnJm-Sx7bac",
        "colab": {
          "base_uri": "https://localhost:8080/"
        },
        "outputId": "8632fa49-ed2d-45cb-b608-0b852b2dd04c"
      },
      "source": [
        "a=0\n",
        "arreglo=[0]*10\n",
        "while a<10:\n",
        "  arreglo[a]=3*(a+1)\n",
        "  a=a+1\n",
        "sum=0\n",
        "for i in range(0,len(arreglo)):\n",
        "  sum=sum+arreglo[i]\n",
        "print(\"Lista de los datos multiplos de 3:\\n\",arreglo, \"\\n\")\n",
        "print(\"La suma de los datos:\",sum)"
      ],
      "execution_count": null,
      "outputs": [
        {
          "output_type": "stream",
          "text": [
            "Lista de los datos multiplos de 3:\n",
            " [3, 6, 9, 12, 15, 18, 21, 24, 27, 30] \n",
            "\n",
            "La suma de los datos: 165\n"
          ],
          "name": "stdout"
        }
      ]
    },
    {
      "cell_type": "markdown",
      "metadata": {
        "id": "C6d_ACFLsmDF"
      },
      "source": [
        "# Ejercicio 4"
      ]
    },
    {
      "cell_type": "code",
      "metadata": {
        "id": "YT70L7VjsgfB",
        "colab": {
          "base_uri": "https://localhost:8080/"
        },
        "outputId": "9481655a-22ee-471a-b73c-89f65469bf16"
      },
      "source": [
        "a1 = int(input(\"Introduce un número:\" ))\n",
        "if a1%2 == 0:\n",
        "  print(\"El número es par\")\n",
        "else:\n",
        "  print(\"El número es impar\")\n",
        "\n",
        "for i in range(2, a1):\n",
        "        if a1%i == 0:\n",
        "            print(\"No es primo,\", i, \"es divisor\")\n",
        "            break\n",
        "if  a1%i != 0:\n",
        "    print(\"Es primo\")\n",
        "\n"
      ],
      "execution_count": 196,
      "outputs": [
        {
          "output_type": "stream",
          "text": [
            "Introduce un número:16\n",
            "El número es par\n",
            "No es primo, 2 es divisor\n"
          ],
          "name": "stdout"
        }
      ]
    },
    {
      "cell_type": "markdown",
      "metadata": {
        "id": "5Y7LpBhOwQ47"
      },
      "source": [
        "# Ejercicio 5"
      ]
    },
    {
      "cell_type": "code",
      "metadata": {
        "colab": {
          "base_uri": "https://localhost:8080/"
        },
        "id": "DiQHcMx_wfRf",
        "outputId": "62d581dc-0a6e-4304-db2f-0d2c9b5103e5"
      },
      "source": [
        "salir = 0\n",
        "while salir != -1:\n",
        "   a1 = int(input(\"Introduce un número:\" ))\n",
        "   b1 = int(input(\"Introduce otro número: \"))\n",
        "   print (\"Seleccionar una opcion\")\n",
        "   print(\"{1}.-Suma (A+B)\\n{2}.-Resta (A-B)\\n{3}.-Multiplicación (A*B)\\n{4}.-División (A/B)\\n{5}.-Exponente (A^B)\\n\")\n",
        "   opc=input(\"¿Que opcion desea? (1, 2, 3, 4, 5):\")\n",
        "   float(res)\n",
        "   if opc==\"1\":\n",
        "     res=a1+b1\n",
        "   else:\n",
        "     if opc==\"2\":\n",
        "       res=a1-b1\n",
        "     else:\n",
        "       if opc==\"3\":\n",
        "         res=a1*b1\n",
        "       else:\n",
        "         if opc==\"4\":\n",
        "           res=a1/b1\n",
        "         else:\n",
        "           res=a1**b1\n",
        "   print (\"La respuesta es: \", res)\n",
        "   salir = int(input(\"Si desea salir ingresar -1 y si no ingrese  0: \"))"
      ],
      "execution_count": 206,
      "outputs": [
        {
          "output_type": "stream",
          "text": [
            "Introduce un número:9\n",
            "Introduce otro número: 2\n",
            "Seleccionar una opcion\n",
            "{1}.-Suma (A+B)\n",
            "{2}.-Resta (A-B)\n",
            "{3}.-Multiplicación (A*B)\n",
            "{4}.-División (A/B)\n",
            "{5}.-Exponente (A^B)\n",
            "\n",
            "¿Que opcion desea? (1, 2, 3, 4, 5):5\n",
            "La respuesta es:  81\n",
            "Si desea salir ingresar -1 y si no ingrese  0: -1\n"
          ],
          "name": "stdout"
        }
      ]
    },
    {
      "cell_type": "markdown",
      "metadata": {
        "id": "DSTX4mBFyYQP"
      },
      "source": [
        "#**Ejercicios con estructuras básicas de python.** "
      ]
    },
    {
      "cell_type": "markdown",
      "metadata": {
        "id": "s1g88d4oyhTG"
      },
      "source": [
        "# Tuplas"
      ]
    },
    {
      "cell_type": "code",
      "metadata": {
        "colab": {
          "base_uri": "https://localhost:8080/"
        },
        "id": "jfe0s-O7ymW3",
        "outputId": "bfb84930-d017-48af-a8c2-fb355f5d8870"
      },
      "source": [
        "flotante = 0.23\n",
        "integer = 52\n",
        "boleana  = True\n",
        "compleja = 5 + 3j\n",
        "print(\"La variable\",flotante,\"es de tipo\",type(flot))\n",
        "print(\"La variable\",integer,\"es de tipo\",type(inte))\n",
        "print(\"La variable\",boleana,\"es de tipo\",type(bole))\n",
        "print(\"La variable\",compleja,\"es de tipo\",type(comp))\n",
        "print(\"\\n\")\n",
        "num = (4,2,5,7,1,3,8,5,2,4,8,2,7,4,5)\n",
        "print(\"Primer numero:\",num[0])\n",
        "print(\"Ultimo numero:\",num[len(num)-1])\n",
        "print(\"\\n\")\n",
        "\n",
        "caracter=('Numero','Valor','Dato')\n",
        "num = num.__add__(caracter)\n",
        "print(\"Los caracter:\",caracter)\n",
        "print(\"Tupla agregando los datos:\",num)\n",
        "\n",
        "print(\"\\n\")\n",
        "\n",
        "buscar =int(input(\"Existe la variable: \"))\n",
        "if buscar in num:\n",
        "  print(\"La variable\",buscar,\"existe dentro de la tupla\")\n",
        "else:\n",
        "  print(\"La variable\",buscar,\"no existe dentro de la tupla\")\n"
      ],
      "execution_count": 262,
      "outputs": [
        {
          "output_type": "stream",
          "text": [
            "La variable 0.23 es de tipo <class 'float'>\n",
            "La variable 52 es de tipo <class 'int'>\n",
            "La variable True es de tipo <class 'bool'>\n",
            "La variable (5+3j) es de tipo <class 'complex'>\n",
            "\n",
            "\n",
            "Primer numero: 4\n",
            "Ultimo numero: 5\n",
            "\n",
            "\n",
            "Los caracter: ('Numero', 'Valor', 'Dato')\n",
            "Tupla agregando los datos: (4, 2, 5, 7, 1, 3, 8, 5, 2, 4, 8, 2, 7, 4, 5, 'Numero', 'Valor', 'Dato')\n",
            "\n",
            "\n",
            "Existe la variable: 8\n",
            "La variable 8 existe dentro de la tupla\n"
          ],
          "name": "stdout"
        }
      ]
    },
    {
      "cell_type": "markdown",
      "metadata": {
        "id": "B6QZnm-S2bwj"
      },
      "source": [
        "# Lista"
      ]
    },
    {
      "cell_type": "code",
      "metadata": {
        "colab": {
          "base_uri": "https://localhost:8080/"
        },
        "id": "LgDI7Api2gui",
        "outputId": "69ab029a-ebd5-4a94-8bd7-7f692a268491"
      },
      "source": [
        "import random\n",
        "def pares_impares_cambios(aleatorios):\n",
        "    print(\"Ingrese cuantos numeros aleatorios desea obtener\")\n",
        "    n=int(input())\n",
        "    aleatorios = [random.randint(0,100) for _ in range(n)]\n",
        "    print(aleatorios)\n",
        "    cambios = [n for n in aleatorios]\n",
        "    pares = [n for n in aleatorios if n % 2 == 0]\n",
        "    impares = [n for n in aleatorios if n % 2 != 0]\n",
        "    pares.sort(reverse=True)\n",
        "    impares.sort()\n",
        "    cambios.append(4)\n",
        "    cambios.reverse()\n",
        "    cambios.pop()\n",
        "    cambios.extend([1,2,3,4,5,6])\n",
        "    return pares, impares, cambios\n",
        "\n",
        "pares, impares, cambios = pares_impares_cambios(aleatorios)\n",
        "print('Pares: ', pares)\n",
        "print('Impares: ', impares)\n",
        "print(\"Lista con funciones:\", cambios)\n",
        "cambios.clear()"
      ],
      "execution_count": 247,
      "outputs": [
        {
          "output_type": "stream",
          "text": [
            "Ingrese cuantos numeros aleatorios desea obtener\n",
            "10\n",
            "[63, 72, 78, 56, 91, 23, 68, 31, 89, 17]\n",
            "Pares:  [78, 72, 68, 56]\n",
            "Impares:  [17, 23, 31, 63, 89, 91]\n",
            "Lista con funciones: [4, 17, 89, 31, 68, 23, 91, 56, 78, 72, 1, 2, 3, 4, 5, 6]\n"
          ],
          "name": "stdout"
        }
      ]
    },
    {
      "cell_type": "markdown",
      "metadata": {
        "id": "V8gl1NRH-zKd"
      },
      "source": [
        "# Diccionarios"
      ]
    },
    {
      "cell_type": "code",
      "metadata": {
        "colab": {
          "base_uri": "https://localhost:8080/"
        },
        "id": "Uy481aJt-5mQ",
        "outputId": "3de589b5-7ef1-4f07-f1d3-fd876a6f1b5e"
      },
      "source": [
        "dic = {'Vanesa': 20, 'Flor': 22, 'Cecilia': 21, 'Jazmin': 19, 'Juan': 25, 'Ashli': 17}\n",
        "print(\"Lista completa:\\n\", dic)\n",
        "dic1 = dic.values()\n",
        "print(\"Lista con valores:\\n\", dic1)\n",
        "dic2 = sorted(dic.values())\n",
        "print(\"Lista con valores ordenados:\\n\", dic2)\n",
        "print(\"\\nNombres de la lista completa:\")\n",
        "for i in dic:\n",
        "  print(i)\n",
        "print(\"\\n\")\n",
        "dic['Eduardo']=24\n",
        "dic['Arturo']=20\n",
        "print(\"Lista original agregando 2 datos:\\n\", dic)"
      ],
      "execution_count": 256,
      "outputs": [
        {
          "output_type": "stream",
          "text": [
            "Lista completa:\n",
            " {'Vanesa': 20, 'Flor': 22, 'Cecilia': 21, 'Jazmin': 19, 'Juan': 25, 'Ashli': 17}\n",
            "Lista con valores:\n",
            " dict_values([20, 22, 21, 19, 25, 17])\n",
            "Lista con valores ordenados:\n",
            " [17, 19, 20, 21, 22, 25]\n",
            "\n",
            "Nombres de la lista completa:\n",
            "Vanesa\n",
            "Flor\n",
            "Cecilia\n",
            "Jazmin\n",
            "Juan\n",
            "Ashli\n",
            "\n",
            "\n",
            "Lista original agregando 2 datos:\n",
            " {'Vanesa': 20, 'Flor': 22, 'Cecilia': 21, 'Jazmin': 19, 'Juan': 25, 'Ashli': 17, 'Eduardo': 24, 'Arturo': 20}\n"
          ],
          "name": "stdout"
        }
      ]
    },
    {
      "cell_type": "markdown",
      "metadata": {
        "id": "kkeQ4cJ4Bp4G"
      },
      "source": [
        "# Sets"
      ]
    },
    {
      "cell_type": "code",
      "metadata": {
        "colab": {
          "base_uri": "https://localhost:8080/"
        },
        "id": "RgxzzCiDBsFO",
        "outputId": "ffda2c1b-d7dc-4237-bab7-20f3dad323ef"
      },
      "source": [
        "import random as numale\n",
        "sets = set()\n",
        "#Los sets no se pueden repetir los datos asi que siempre va a ser 1 al 25\n",
        "for i in range(0,100):\n",
        "  sets.add(numale.randint(1,25))\n",
        "print(\"Set:\\n\",sets)\n",
        "print(\"\\n\")\n",
        "print(\"La longitud del set es:\",len(sets))\n",
        "print(\"\\n\")\n",
        "cinco = [0]  * 5\n",
        "for i in range(5):\n",
        "  cinco[i] = numale.randint(1,10)\n",
        "print(\"El set:\",sets)\n",
        "print(\"\\n\")\n",
        "print(\"La lista de 5 elementos aleatorios es:\",cinco)\n",
        "print(\"\\n\")\n",
        "for i in range(0,5):\n",
        "  if cinco[i] in sets:\n",
        "    print(\"El elemento\",cinco[i],\"se encuentra en el set.\")\n",
        "  else:\n",
        "    print(\"El elemento\",cinco[i],\"no se encuentra en el set.\")\n",
        "#Siempre se encntraran ya que el 1 al 10 esta integrado al 1 al 25"
      ],
      "execution_count": 263,
      "outputs": [
        {
          "output_type": "stream",
          "text": [
            "Set:\n",
            " {1, 2, 3, 4, 5, 6, 7, 8, 9, 10, 12, 13, 14, 15, 16, 17, 18, 19, 20, 21, 22, 23, 24, 25}\n",
            "\n",
            "\n",
            "La longitud del set es: 24\n",
            "\n",
            "\n",
            "El set: {1, 2, 3, 4, 5, 6, 7, 8, 9, 10, 12, 13, 14, 15, 16, 17, 18, 19, 20, 21, 22, 23, 24, 25}\n",
            "\n",
            "\n",
            "La lista de 5 elementos aleatorios es: [1, 4, 7, 5, 8]\n",
            "\n",
            "\n",
            "El elemento 1 se encuentra en el set.\n",
            "El elemento 4 se encuentra en el set.\n",
            "El elemento 7 se encuentra en el set.\n",
            "El elemento 5 se encuentra en el set.\n",
            "El elemento 8 se encuentra en el set.\n"
          ],
          "name": "stdout"
        }
      ]
    }
  ]
}